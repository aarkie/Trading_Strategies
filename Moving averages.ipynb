{
 "cells": [
  {
   "cell_type": "code",
   "execution_count": 4,
   "metadata": {},
   "outputs": [],
   "source": [
    "import numpy as np\n",
    "import pandas as pd\n",
    "import matplotlib.pyplot as plt\n",
    "import pandas_datareader.data as pdr\n",
    "from datetime import datetime"
   ]
  },
  {
   "cell_type": "code",
   "execution_count": 5,
   "metadata": {},
   "outputs": [
    {
     "name": "stdout",
     "output_type": "stream",
     "text": [
      "Requirement already satisfied: pandas-datareader in /Users/aaryashrivastava/opt/anaconda3/lib/python3.7/site-packages (0.9.0)\n",
      "Requirement already satisfied: pandas>=0.23 in /Users/aaryashrivastava/opt/anaconda3/lib/python3.7/site-packages (from pandas-datareader) (1.0.1)\n",
      "Requirement already satisfied: requests>=2.19.0 in /Users/aaryashrivastava/opt/anaconda3/lib/python3.7/site-packages (from pandas-datareader) (2.22.0)\n",
      "Requirement already satisfied: lxml in /Users/aaryashrivastava/opt/anaconda3/lib/python3.7/site-packages (from pandas-datareader) (4.5.0)\n",
      "Requirement already satisfied: python-dateutil>=2.6.1 in /Users/aaryashrivastava/opt/anaconda3/lib/python3.7/site-packages (from pandas>=0.23->pandas-datareader) (2.8.1)\n",
      "Requirement already satisfied: pytz>=2017.2 in /Users/aaryashrivastava/opt/anaconda3/lib/python3.7/site-packages (from pandas>=0.23->pandas-datareader) (2019.3)\n",
      "Requirement already satisfied: numpy>=1.13.3 in /Users/aaryashrivastava/opt/anaconda3/lib/python3.7/site-packages (from pandas>=0.23->pandas-datareader) (1.18.1)\n",
      "Requirement already satisfied: chardet<3.1.0,>=3.0.2 in /Users/aaryashrivastava/opt/anaconda3/lib/python3.7/site-packages (from requests>=2.19.0->pandas-datareader) (3.0.4)\n",
      "Requirement already satisfied: certifi>=2017.4.17 in /Users/aaryashrivastava/opt/anaconda3/lib/python3.7/site-packages (from requests>=2.19.0->pandas-datareader) (2019.11.28)\n",
      "Requirement already satisfied: idna<2.9,>=2.5 in /Users/aaryashrivastava/opt/anaconda3/lib/python3.7/site-packages (from requests>=2.19.0->pandas-datareader) (2.8)\n",
      "Requirement already satisfied: urllib3!=1.25.0,!=1.25.1,<1.26,>=1.21.1 in /Users/aaryashrivastava/opt/anaconda3/lib/python3.7/site-packages (from requests>=2.19.0->pandas-datareader) (1.25.8)\n",
      "Requirement already satisfied: six>=1.5 in /Users/aaryashrivastava/opt/anaconda3/lib/python3.7/site-packages (from python-dateutil>=2.6.1->pandas>=0.23->pandas-datareader) (1.14.0)\n"
     ]
    }
   ],
   "source": [
    "!pip install pandas-datareader"
   ]
  },
  {
   "cell_type": "code",
   "execution_count": 7,
   "metadata": {},
   "outputs": [],
   "source": [
    "def get_stock_data(ticker,start,end):\n",
    "    df = pdr.get_data_yahoo(ticker, start = start, end=end)\n",
    "    return df"
   ]
  },
  {
   "cell_type": "code",
   "execution_count": 8,
   "metadata": {},
   "outputs": [
    {
     "name": "stdout",
     "output_type": "stream",
     "text": [
      "              High          Low         Open        Close        Volume  \\\n",
      "count  1229.000000  1229.000000  1229.000000  1229.000000  1.229000e+03   \n",
      "mean    889.280274   876.446629   883.240281   883.084993  1.902669e+06   \n",
      "std     200.050652   193.503770   197.065870   196.983759  5.165866e+06   \n",
      "min     637.500000   610.500000   624.299988   620.900024  0.000000e+00   \n",
      "25%     816.000000   795.549988   806.000000   805.849976  0.000000e+00   \n",
      "50%     818.200012   818.200012   818.200012   818.200012  1.611902e+06   \n",
      "75%     850.000000   833.049988   842.000000   841.549988  2.793400e+06   \n",
      "max    1464.000000  1442.000000  1464.000000  1458.050049  1.584141e+08   \n",
      "\n",
      "         Adj Close  \n",
      "count  1229.000000  \n",
      "mean    802.638776  \n",
      "std     197.697344  \n",
      "min     538.745789  \n",
      "25%     716.818237  \n",
      "50%     746.211670  \n",
      "75%     760.117249  \n",
      "max    1372.537354  \n"
     ]
    }
   ],
   "source": [
    "ticker = 'HDFC.NS'\n",
    "start = datetime(2012,1,1)\n",
    "end = datetime(2017,1,1)\n",
    "HDFC = get_stock_data(ticker,start,end)\n",
    "print(HDFC.describe())"
   ]
  },
  {
   "cell_type": "code",
   "execution_count": 10,
   "metadata": {},
   "outputs": [],
   "source": [
    "def stock_features(df):\n",
    "    df[\"SMA_5\"] = df[\"Close\"].rolling(20).mean()\n",
    "    df[\"SMA_20\"] = df[\"Close\"].rolling(5).mean()\n",
    "    df['Long_Entry']=0\n",
    "    df['Long_Exit']=0\n",
    "    df['Short_Entry']=0\n",
    "    df['Short_Exit']=0\n",
    "    df = df.dropna()\n",
    "    return df"
   ]
  },
  {
   "cell_type": "code",
   "execution_count": 11,
   "metadata": {},
   "outputs": [
    {
     "name": "stdout",
     "output_type": "stream",
     "text": [
      "                   High          Low         Open        Close     Volume  \\\n",
      "Date                                                                        \n",
      "2012-01-30   699.799988   685.000000   692.049988   688.099976  1921884.0   \n",
      "2012-01-31   701.950012   689.950012   692.500000   697.849976  2647243.0   \n",
      "2012-02-01   692.000000   680.000000   691.000000   688.900024  4956130.0   \n",
      "2012-02-02   696.000000   682.799988   696.000000   685.750000  2945430.0   \n",
      "2012-02-03   699.000000   685.049988   688.000000   696.650024  1518043.0   \n",
      "...                 ...          ...          ...          ...        ...   \n",
      "2016-12-26  1224.250000  1206.000000  1220.000000  1219.500000   747342.0   \n",
      "2016-12-27  1237.000000  1211.449951  1221.900024  1232.150024   872827.0   \n",
      "2016-12-28  1248.050049  1222.900024  1238.900024  1237.949951  2032787.0   \n",
      "2016-12-29  1261.550049  1229.900024  1234.699951  1257.199951  2005422.0   \n",
      "2016-12-30  1269.750000  1249.500000  1263.349976  1262.599976  1388842.0   \n",
      "\n",
      "              Adj Close        SMA_5       SMA_20  Long_Entry  Long_Exit  \\\n",
      "Date                                                                       \n",
      "2012-01-30   597.054260   681.285001   698.629993           0          0   \n",
      "2012-01-31   605.514160   683.657498   699.099988           0          0   \n",
      "2012-02-01   597.748413   684.842499   696.769995           0          0   \n",
      "2012-02-02   595.015076   686.082498   692.079993           0          0   \n",
      "2012-02-03   604.472961   687.400000   691.450000           0          0   \n",
      "...                 ...          ...          ...         ...        ...   \n",
      "2016-12-26  1147.978027  1251.322510  1226.580005           0          0   \n",
      "2016-12-27  1159.886108  1250.140009  1225.900000           0          0   \n",
      "2016-12-28  1165.345703  1248.882507  1226.369995           0          0   \n",
      "2016-12-29  1183.466797  1248.242505  1234.329980           0          0   \n",
      "2016-12-30  1188.549927  1249.532501  1241.879980           0          0   \n",
      "\n",
      "            Short_Entry  Short_Exit  \n",
      "Date                                 \n",
      "2012-01-30            0           0  \n",
      "2012-01-31            0           0  \n",
      "2012-02-01            0           0  \n",
      "2012-02-02            0           0  \n",
      "2012-02-03            0           0  \n",
      "...                 ...         ...  \n",
      "2016-12-26            0           0  \n",
      "2016-12-27            0           0  \n",
      "2016-12-28            0           0  \n",
      "2016-12-29            0           0  \n",
      "2016-12-30            0           0  \n",
      "\n",
      "[1210 rows x 12 columns]\n"
     ]
    }
   ],
   "source": [
    "hdfc = HDFC.copy()\n",
    "hdfc1 = stock_features(hdfc)\n",
    "print(hdfc1)"
   ]
  },
  {
   "cell_type": "code",
   "execution_count": 13,
   "metadata": {},
   "outputs": [],
   "source": [
    "def SMA_Strategy(df):\n",
    "    signal = 0\n",
    "    ret = []\n",
    "    \n",
    "    for i in range(len(df)):\n",
    "        \n",
    "        if(signal==0):\n",
    "            ret.append(0)\n",
    "    \n",
    "            #Long_Entry:\n",
    "            \n",
    "            if(df['SMA_5'][i] > df['SMA_20'][i]\n",
    "              and df['SMA_5'][i-1] < df['SMA_20'][i-1]):\n",
    "                signal = 1\n",
    "                df['Long_Entry'][i] = df[\"Close\"][i]\n",
    "                                                  \n",
    "            #Long_Exit:\n",
    "        elif (signal==1):\n",
    "                if(df['SMA_5'][i] > df['Close'][i]\n",
    "                   and df['SMA_5'][i-1] < df['Close'][i-1]):\n",
    "                    signal = 0\n",
    "                    df['Long_Exit'][i] = df[\"Close\"][i]\n",
    "                    ret.append((df['Close'][i]/df['Close'][i-1]-1))\n",
    "                else:\n",
    "                    ret.append((df['Close'][i]/df['Close'][i-1]-1))\n",
    "                    \n",
    "    df[\"ret\"] = np.array(ret)\n",
    "    return df\n",
    "                \n",
    "                \n",
    "                \n",
    "        "
   ]
  },
  {
   "cell_type": "code",
   "execution_count": 14,
   "metadata": {},
   "outputs": [
    {
     "name": "stderr",
     "output_type": "stream",
     "text": [
      "/Users/aaryashrivastava/opt/anaconda3/lib/python3.7/site-packages/ipykernel_launcher.py:15: SettingWithCopyWarning: \n",
      "A value is trying to be set on a copy of a slice from a DataFrame\n",
      "\n",
      "See the caveats in the documentation: https://pandas.pydata.org/pandas-docs/stable/user_guide/indexing.html#returning-a-view-versus-a-copy\n",
      "  from ipykernel import kernelapp as app\n",
      "/Users/aaryashrivastava/opt/anaconda3/lib/python3.7/site-packages/ipykernel_launcher.py:22: SettingWithCopyWarning: \n",
      "A value is trying to be set on a copy of a slice from a DataFrame\n",
      "\n",
      "See the caveats in the documentation: https://pandas.pydata.org/pandas-docs/stable/user_guide/indexing.html#returning-a-view-versus-a-copy\n"
     ]
    },
    {
     "name": "stdout",
     "output_type": "stream",
     "text": [
      "                   High          Low         Open        Close     Volume  \\\n",
      "Date                                                                        \n",
      "2012-01-30   699.799988   685.000000   692.049988   688.099976  1921884.0   \n",
      "2012-01-31   701.950012   689.950012   692.500000   697.849976  2647243.0   \n",
      "2012-02-01   692.000000   680.000000   691.000000   688.900024  4956130.0   \n",
      "2012-02-02   696.000000   682.799988   696.000000   685.750000  2945430.0   \n",
      "2012-02-03   699.000000   685.049988   688.000000   696.650024  1518043.0   \n",
      "...                 ...          ...          ...          ...        ...   \n",
      "2016-12-26  1224.250000  1206.000000  1220.000000  1219.500000   747342.0   \n",
      "2016-12-27  1237.000000  1211.449951  1221.900024  1232.150024   872827.0   \n",
      "2016-12-28  1248.050049  1222.900024  1238.900024  1237.949951  2032787.0   \n",
      "2016-12-29  1261.550049  1229.900024  1234.699951  1257.199951  2005422.0   \n",
      "2016-12-30  1269.750000  1249.500000  1263.349976  1262.599976  1388842.0   \n",
      "\n",
      "              Adj Close        SMA_5       SMA_20  Long_Entry  Long_Exit  \\\n",
      "Date                                                                       \n",
      "2012-01-30   597.054260   681.285001   698.629993           0          0   \n",
      "2012-01-31   605.514160   683.657498   699.099988           0          0   \n",
      "2012-02-01   597.748413   684.842499   696.769995           0          0   \n",
      "2012-02-02   595.015076   686.082498   692.079993           0          0   \n",
      "2012-02-03   604.472961   687.400000   691.450000           0          0   \n",
      "...                 ...          ...          ...         ...        ...   \n",
      "2016-12-26  1147.978027  1251.322510  1226.580005           0          0   \n",
      "2016-12-27  1159.886108  1250.140009  1225.900000           0          0   \n",
      "2016-12-28  1165.345703  1248.882507  1226.369995           0          0   \n",
      "2016-12-29  1183.466797  1248.242505  1234.329980           0          0   \n",
      "2016-12-30  1188.549927  1249.532501  1241.879980           0          0   \n",
      "\n",
      "            Short_Entry  Short_Exit       ret  \n",
      "Date                                           \n",
      "2012-01-30            0           0  0.000000  \n",
      "2012-01-31            0           0  0.000000  \n",
      "2012-02-01            0           0  0.000000  \n",
      "2012-02-02            0           0  0.000000  \n",
      "2012-02-03            0           0  0.000000  \n",
      "...                 ...         ...       ...  \n",
      "2016-12-26            0           0 -0.004368  \n",
      "2016-12-27            0           0  0.010373  \n",
      "2016-12-28            0           0  0.004707  \n",
      "2016-12-29            0           0  0.015550  \n",
      "2016-12-30            0           0  0.004295  \n",
      "\n",
      "[1210 rows x 13 columns]\n"
     ]
    }
   ],
   "source": [
    "hdfc2 = hdfc1.copy()\n",
    "hdfc3 = SMA_Strategy(hdfc2)\n",
    "print(hdfc3)"
   ]
  },
  {
   "cell_type": "code",
   "execution_count": 15,
   "metadata": {},
   "outputs": [],
   "source": [
    "hdfc3.to_csv(\"HDFC_week1_SMA.csv\")"
   ]
  },
  {
   "cell_type": "code",
   "execution_count": 17,
   "metadata": {},
   "outputs": [],
   "source": [
    "def CAGR(df):\n",
    "    df[\"cum_return\"] = (1+ df['ret']).cumprod()\n",
    "    df['cum_return'].plot(figsize=(15,8),grid=True)\n",
    "    plt.ylabel('Cumm_Returns')\n",
    "    plt.xlabel('Date')\n",
    "    print('Cumm_returns',(df['cum_return'][-1]-1)*100,\"%\")\n",
    "    \n",
    "    n = len(df)/(252)\n",
    "    CAGR = ((df['cum_return'][-1])**(1/n)-1)\n",
    "    return CAGR\n",
    "\n",
    "\n",
    "    \n",
    "\n",
    "def volatality(df):\n",
    "    vol = (df['ret'].std()*np.sqrt(252))\n",
    "    return vol\n",
    "def sharpe(df,rf):\n",
    "    sr = (CAGR(df) - rf)/volatality(df)\n",
    "    return sr\n",
    "def max_dd(df):\n",
    "    \n",
    "    df[\"cum_return\"] = (1 + df['ret']).cumprod()\n",
    "    df['cum_roll_max'] = df['cum_return'].cummax()\n",
    "    df['drawdown'] = df['cum_roll_max'] - df[\"cum_return\"]\n",
    "    df['drawdown_pct'] = df['drawdown']/df['cum_roll_max']\n",
    "    max_dd = df['drawdown_pct'].max()\n",
    "    return max_dd\n",
    "\n",
    "    "
   ]
  },
  {
   "cell_type": "code",
   "execution_count": 18,
   "metadata": {
    "scrolled": true
   },
   "outputs": [
    {
     "name": "stdout",
     "output_type": "stream",
     "text": [
      "Cumm_returns 111.03286397924816 %\n",
      "Cumm_returns 111.03286397924816 %\n",
      "   Annual_Return  Volatality  Sharp Ratio  Max Drawdown\n",
      "0        0.16829    0.270628     0.621849      0.176657\n"
     ]
    },
    {
     "data": {
      "image/png": "[encoded data removed]",
      "text/plain": [
       "<Figure size 1080x576 with 1 Axes>"
      ]
     },
     "metadata": {
      "needs_background": "light"
     },
     "output_type": "display_data"
    }
   ],
   "source": [
    "cagr = CAGR(hdfc3)\n",
    "Volatality = volatality(hdfc3)\n",
    "sharpe_ratio = sharpe(hdfc3,0.0)\n",
    "Max_drawdown = max_dd(hdfc3)\n",
    "\n",
    "Portfolio_df = pd.DataFrame([cagr,Volatality,sharpe_ratio,Max_drawdown],index=['Annual_Return','Volatality','Sharp Ratio','Max Drawdown'])\n",
    "print(Portfolio_df.T)\n"
   ]
  },
  {
   "cell_type": "code",
   "execution_count": null,
   "metadata": {},
   "outputs": [],
   "source": []
  },
  {
   "cell_type": "code",
   "execution_count": null,
   "metadata": {},
   "outputs": [],
   "source": []
  }
 ],
 "metadata": {
  "kernelspec": {
   "display_name": "Python 3",
   "language": "python",
   "name": "python3"
  },
  "language_info": {
   "codemirror_mode": {
    "name": "ipython",
    "version": 3
   },
   "file_extension": ".py",
   "mimetype": "text/x-python",
   "name": "python",
   "nbconvert_exporter": "python",
   "pygments_lexer": "ipython3",
   "version": "3.7.6"
  }
 },
 "nbformat": 4,
 "nbformat_minor": 2
}
